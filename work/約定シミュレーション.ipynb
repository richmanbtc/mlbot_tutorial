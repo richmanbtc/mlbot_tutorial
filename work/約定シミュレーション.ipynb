{
 "cells": [
  {
   "cell_type": "raw",
   "id": "1b829ee9-d286-41fe-8ee8-e1b19dc8c3f8",
   "metadata": {},
   "source": [
    "定義\n",
    "y: コスト込みリターン。機械学習の目的変数にする。\n",
    "\n",
    "buy_price: 買い指値\n",
    "\n",
    "sell_price: 売り指値\n",
    "\n",
    "pips: 価格の細かさ。bybitのBTCUSDなら0.5\n",
    "\n",
    "fee: 手数料。bybitのmakerなら-0.00025\n",
    "\n",
    "準備: Force Entry Price\n",
    "Force Entry Priceは買うと決めてから約定するまで指値で追いかけた場合に、実際に約定する価格です。独自用語です。指値の出し方は任意です。entryと名前がついていますがexitも同じ計算なので区別はないです。\n",
    "\n",
    "以下、計算コードです。"
   ]
  },
  {
   "cell_type": "code",
   "execution_count": null,
   "id": "6b3b9272-b299-4436-9a58-aa11fafd69ac",
   "metadata": {
    "tags": []
   },
   "outputs": [],
   "source": [
    "# 足データを想定\n",
    "# entry_price: numpy array。買い指値。i番目の足の最後で価格entry_price[i]で指値を出し、i + 1番目の足の最後でキャンセルする想定。\n",
    "# lo: numpy array。低値\n",
    "# 戻り値: y[i]は、i番目の足の最後から執行を始めた場合に、実際に約定する価格\n",
    "# 計算が遅いので高速化のためにnumbaを使っている。numbaを除くと遅いけど同じ動作。\n",
    "\n",
    "@numba.njit\n",
    "def calc_force_entry_price(entry_price=None, lo=None, pips=None):\n",
    "   y = entry_price.copy()\n",
    "   y[:] = np.nan\n",
    "   for i in range(entry_price.size):\n",
    "       for j in range(i + 1, entry_price.size):\n",
    "           if round(lo[j] / pips) < round(entry_price[j - 1] / pips):\n",
    "               y[i] = entry_price[j - 1]\n",
    "               break\n",
    "   return y"
   ]
  },
  {
   "cell_type": "raw",
   "id": "787f1c59-88b3-4d92-9664-184d192976c9",
   "metadata": {},
   "source": [
    "準備: buy_fep, sell_fep\n",
    "以下のように計算しておきます。fepはforce entry priceの略。dfにはohlcvが入っている想定です。"
   ]
  },
  {
   "cell_type": "code",
   "execution_count": null,
   "id": "4a078a72-ce64-4078-ae9e-366e7191d8d4",
   "metadata": {},
   "outputs": [],
   "source": [
    "df['buy_fep'] = calc_force_entry_price(\n",
    "    entry_price=df['buy_price'].values,\n",
    "    lo=df['lo'].values,\n",
    "    pips=pips,\n",
    ")\n",
    "\n",
    "# calc_force_entry_priceは入力をマイナスにすれば売りに使える\n",
    "df['sell_fep'] = -calc_force_entry_price(\n",
    "    entry_price=-df['sell_price'].values,\n",
    "    lo=-df['hi'].values, # 売りのときは高値\n",
    "    pips=pips,\n",
    ")"
   ]
  },
  {
   "cell_type": "raw",
   "id": "3966a1f1-6859-4f7a-b91d-aecc0e1ae505",
   "metadata": {},
   "source": [
    "約定シミュレーション例1\n",
    "エントリールール: 買うと決めたら約定するまで追いかける。\n",
    "\n",
    "エグジットルール: t足後に売り始める。売ると決めたら約定するまで追いかける"
   ]
  },
  {
   "cell_type": "code",
   "execution_count": null,
   "id": "1095e8f5-b0b5-47d0-8637-480ebae92da6",
   "metadata": {},
   "outputs": [],
   "source": [
    "df['y_buy'] = df['sell_fep'].shift(-t) / df['buy_fep'] - 1 - 2 * fee\n",
    "df['y_sell'] = -(df['buy_fep'].shift(-t) / df['sell_fep'] - 1) - 2 * fee"
   ]
  },
  {
   "cell_type": "raw",
   "id": "063cc63f-df30-4f3d-8cdc-9b941901ac22",
   "metadata": {},
   "source": [
    "約定シミュレーション例2\n",
    "エントリールール: 指値を出して次の足でキャンセル。\n",
    "\n",
    "エグジットルール: エントリーが約定した場合は、t足後に売り始める。売ると決めたら約定するまで追いかける"
   ]
  },
  {
   "cell_type": "raw",
   "id": "5008f1b6-626e-47c0-ac80-7d9fe2dee59b",
   "metadata": {},
   "source": [
    "指値の出し方\n",
    "buy_priceやsell_priceは自由です。工夫のしどころ。エントリーとエグジットを変えても良いかも。\n",
    "\n",
    "最良気配っぽく出す場合\n",
    "板情報が無いと厳密な最良気配は難しいので、buy_price = cl - pips, sell_price = cl + pipsとかで近似すると良いと思います。\n",
    "\n",
    "板情報は使うのか？\n",
    "板情報を使うともっと多様な執行戦略でシミュレーションできると思いますが、bitmex(過去の最良気配が取れた気がする)以外は過去の板情報取れないし、溜めていないので使っていません。データ溜めるのは以前やっていましたが、管理が面倒なので辞めました。やるとしたらどこかから購入するかな。\n",
    "\n",
    "ライセンス\n",
    "コードはすべてCC0 (Twitter埋め込みは除く)"
   ]
  }
 ],
 "metadata": {
  "kernelspec": {
   "display_name": "Python 3 (ipykernel)",
   "language": "python",
   "name": "python3"
  },
  "language_info": {
   "codemirror_mode": {
    "name": "ipython",
    "version": 3
   },
   "file_extension": ".py",
   "mimetype": "text/x-python",
   "name": "python",
   "nbconvert_exporter": "python",
   "pygments_lexer": "ipython3",
   "version": "3.9.5"
  }
 },
 "nbformat": 4,
 "nbformat_minor": 5
}
